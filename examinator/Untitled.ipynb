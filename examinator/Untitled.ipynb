{
 "cells": [
  {
   "cell_type": "code",
   "execution_count": 1,
   "metadata": {},
   "outputs": [
    {
     "name": "stderr",
     "output_type": "stream",
     "text": [
      "54it [00:00, 2253.90it/s]\n"
     ]
    }
   ],
   "source": [
    "from get_file_info2 import *\n",
    "df = proc_paths('.', 't', False)"
   ]
  },
  {
   "cell_type": "code",
   "execution_count": null,
   "metadata": {},
   "outputs": [],
   "source": [
    "import operator\n",
    "item = Path('./cli.py')\n",
    "members = inspect.getmembers(item)\n",
    "props = dict([m for m in members if '__' not in m[0] and '<' not in str(m[1])])\n",
    "props.update(dict([(m[0], operator.methodcaller(m[0])(item)) for m in members if m[0].startswith('is_')]))\n",
    "props"
   ]
  },
  {
   "cell_type": "code",
   "execution_count": 5,
   "metadata": {},
   "outputs": [
    {
     "data": {
      "text/plain": [
       "index                                         1\n",
       "_closed                                   False\n",
       "_cparts                                [cli.py]\n",
       "_drv                                           \n",
       "_parts                                 [cli.py]\n",
       "_root                                          \n",
       "_str                                     cli.py\n",
       "anchor                                         \n",
       "drive                                          \n",
       "f_atime              2019-03-06 18:21:30.964837\n",
       "f_ctime              2019-03-06 18:21:30.964837\n",
       "f_mtime              2019-03-06 18:21:30.964837\n",
       "is_absolute                               False\n",
       "is_block_device                           False\n",
       "is_char_device                            False\n",
       "is_dir                                    False\n",
       "is_fifo                                   False\n",
       "is_file                                    True\n",
       "is_reserved                               False\n",
       "is_socket                                 False\n",
       "is_symlink                                False\n",
       "n_fields                                     19\n",
       "n_sequence_fields                            10\n",
       "n_unnamed_fields                              3\n",
       "name                                     cli.py\n",
       "parent                                        .\n",
       "parts                                 (cli.py,)\n",
       "path                                     cli.py\n",
       "root                                           \n",
       "st_atime                             1.5519e+09\n",
       "st_atime_ns                 1551896490964836500\n",
       "st_blksize                                16384\n",
       "st_blocks                                     8\n",
       "st_ctime                             1.5519e+09\n",
       "st_ctime_ns                 1551896490964836500\n",
       "st_dev                                      107\n",
       "st_gid                                        0\n",
       "st_ino                                 35489001\n",
       "st_mode                                   33261\n",
       "st_mtime                             1.5519e+09\n",
       "st_mtime_ns                 1551896490964836500\n",
       "st_nlink                                      1\n",
       "st_rdev                                       0\n",
       "st_size                                    1847\n",
       "st_uid                                        0\n",
       "stem                                        cli\n",
       "suffix                                      .py\n",
       "suffixes                                  [.py]\n",
       "Name: 1, dtype: object"
      ]
     },
     "execution_count": 5,
     "metadata": {},
     "output_type": "execute_result"
    }
   ],
   "source": [
    "df.loc[1, :]"
   ]
  },
  {
   "cell_type": "code",
   "execution_count": null,
   "metadata": {},
   "outputs": [],
   "source": []
  }
 ],
 "metadata": {
  "kernelspec": {
   "display_name": "Python 3",
   "language": "python",
   "name": "python3"
  },
  "language_info": {
   "codemirror_mode": {
    "name": "ipython",
    "version": 3
   },
   "file_extension": ".py",
   "mimetype": "text/x-python",
   "name": "python",
   "nbconvert_exporter": "python",
   "pygments_lexer": "ipython3",
   "version": "3.7.2"
  }
 },
 "nbformat": 4,
 "nbformat_minor": 2
}
