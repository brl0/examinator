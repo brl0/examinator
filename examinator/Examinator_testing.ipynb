{
 "cells": [
  {
   "cell_type": "code",
   "execution_count": 1,
   "metadata": {},
   "outputs": [],
   "source": [
    "import sys\n",
    "import os"
   ]
  },
  {
   "cell_type": "code",
   "execution_count": 2,
   "metadata": {},
   "outputs": [],
   "source": [
    "import inspect\n",
    "from hashlib import md5\n",
    "from pathlib import Path\n",
    "from operator import methodcaller\n",
    "from itertools import chain\n",
    "import datetime as dt\n",
    "from functools import partial\n",
    "from pprint import pprint  #as pp"
   ]
  },
  {
   "cell_type": "code",
   "execution_count": 3,
   "metadata": {},
   "outputs": [],
   "source": [
    "from IPython.core.display import HTML\n",
    "from IPython.core.interactiveshell import InteractiveShell\n",
    "InteractiveShell.ast_node_interactivity = \"all\""
   ]
  },
  {
   "cell_type": "code",
   "execution_count": 4,
   "metadata": {},
   "outputs": [],
   "source": [
    "from matplotlib import pyplot as plt"
   ]
  },
  {
   "cell_type": "code",
   "execution_count": 5,
   "metadata": {},
   "outputs": [],
   "source": [
    "import click\n",
    "import attr\n",
    "from tqdm import tqdm\n",
    "import numpy as np\n",
    "from toolz import curry\n",
    "import pandas as pd\n",
    "import dask.array as da\n",
    "import dask.bag as db\n",
    "import dask.dataframe as dd\n",
    "from dask.distributed import Client"
   ]
  },
  {
   "cell_type": "code",
   "execution_count": 6,
   "metadata": {},
   "outputs": [],
   "source": [
    "import binascii\n",
    "import hashlib\n",
    "def hash_utf8(string):\n",
    "    \"\"\"given utf8 string return md5 hash value as hex string\"\"\"\n",
    "    hasher = hashlib.md5()\n",
    "    hasher.update(string.encode(\"utf-8\"))\n",
    "    return binascii.hexlify(hasher.digest()).decode(\"utf-8\")"
   ]
  },
  {
   "cell_type": "code",
   "execution_count": 7,
   "metadata": {},
   "outputs": [],
   "source": [
    "import logging as log\n",
    "log.disable(50)"
   ]
  },
  {
   "cell_type": "code",
   "execution_count": 8,
   "metadata": {},
   "outputs": [
    {
     "data": {
      "text/html": [
       "<table style=\"border: 2px solid white;\">\n",
       "<tr>\n",
       "<td style=\"vertical-align: top; border: 0px solid white\">\n",
       "<h3>Client</h3>\n",
       "<ul>\n",
       "  <li><b>Scheduler: </b>inproc://192.168.1.70/416/1\n",
       "  <li><b>Dashboard: </b><a href='http://localhost:8787/status' target='_blank'>http://localhost:8787/status</a>\n",
       "</ul>\n",
       "</td>\n",
       "<td style=\"vertical-align: top; border: 0px solid white\">\n",
       "<h3>Cluster</h3>\n",
       "<ul>\n",
       "  <li><b>Workers: </b>1</li>\n",
       "  <li><b>Cores: </b>8</li>\n",
       "  <li><b>Memory: </b>34.32 GB</li>\n",
       "</ul>\n",
       "</td>\n",
       "</tr>\n",
       "</table>"
      ],
      "text/plain": [
       "<Client: scheduler='inproc://192.168.1.70/416/1' processes=1 cores=8>"
      ]
     },
     "execution_count": 8,
     "metadata": {},
     "output_type": "execute_result"
    }
   ],
   "source": [
    "from dask.distributed import LocalCluster\n",
    "cluster = LocalCluster(processes=False)\n",
    "client = Client(cluster)\n",
    "client"
   ]
  },
  {
   "cell_type": "code",
   "execution_count": 8,
   "metadata": {},
   "outputs": [
    {
     "data": {
      "text/html": [
       "<table style=\"border: 2px solid white;\">\n",
       "<tr>\n",
       "<td style=\"vertical-align: top; border: 0px solid white\">\n",
       "<h3>Client</h3>\n",
       "<ul>\n",
       "  <li><b>Scheduler: </b>tcp://127.0.0.1:36599\n",
       "  <li><b>Dashboard: </b><a href='http://127.0.0.1:8787/status' target='_blank'>http://127.0.0.1:8787/status</a>\n",
       "</ul>\n",
       "</td>\n",
       "<td style=\"vertical-align: top; border: 0px solid white\">\n",
       "<h3>Cluster</h3>\n",
       "<ul>\n",
       "  <li><b>Workers: </b>4</li>\n",
       "  <li><b>Cores: </b>8</li>\n",
       "  <li><b>Memory: </b>12.58 GB</li>\n",
       "</ul>\n",
       "</td>\n",
       "</tr>\n",
       "</table>"
      ],
      "text/plain": [
       "<Client: scheduler='tcp://127.0.0.1:36599' processes=4 cores=8>"
      ]
     },
     "execution_count": 8,
     "metadata": {},
     "output_type": "execute_result"
    }
   ],
   "source": [
    "client = Client('127.0.0.1:36599')\n",
    "client"
   ]
  },
  {
   "cell_type": "code",
   "execution_count": 9,
   "metadata": {},
   "outputs": [
    {
     "name": "stdout",
     "output_type": "stream",
     "text": [
      "4 8\n"
     ]
    }
   ],
   "source": [
    "n_workers = len(client.ncores())\n",
    "n_cores = sum(client.ncores().values())\n",
    "print(n_workers, n_cores)"
   ]
  },
  {
   "cell_type": "code",
   "execution_count": null,
   "metadata": {},
   "outputs": [],
   "source": []
  },
  {
   "cell_type": "code",
   "execution_count": null,
   "metadata": {},
   "outputs": [],
   "source": []
  },
  {
   "cell_type": "code",
   "execution_count": 32,
   "metadata": {},
   "outputs": [],
   "source": [
    "bllb_path = str(Path(r\"../../../code/python/bllb\").resolve())\n",
    "sys.path.insert(0, bllb_path)\n",
    "from bllb_logging import *\n",
    "from bllb import ppiter  #, hash_utf8\n",
    "\n",
    "LOG_ON = False\n",
    "LOG_LEVEL = \"WARNING\"  #\"DEBUG\"\n",
    "def start_log(enable=True, lvl='WARNING', std_lib=True):\n",
    "    log = setup_logging(enable, lvl, std_lib=std_lib)\n",
    "    log.info('examinator logging started')\n",
    "    return log\n",
    "log_on = LOG_ON\n",
    "log_level = LOG_LEVEL\n",
    "log = start_log(log_on, log_level, std_lib=True)"
   ]
  },
  {
   "cell_type": "code",
   "execution_count": null,
   "metadata": {},
   "outputs": [],
   "source": []
  },
  {
   "cell_type": "code",
   "execution_count": null,
   "metadata": {},
   "outputs": [],
   "source": []
  },
  {
   "cell_type": "code",
   "execution_count": 11,
   "metadata": {},
   "outputs": [],
   "source": [
    "def md5_blocks(path, blocksize=1024 * 2048) -> str:\n",
    "    path = Path(path)\n",
    "    if not path.is_dir():\n",
    "        try:\n",
    "            hasher = md5()\n",
    "            with path.open('rb') as file:\n",
    "                block = file.read(blocksize)\n",
    "                while len(block) > 0:\n",
    "                    hasher.update(block)\n",
    "                    block = file.read(blocksize)\n",
    "            return hasher.hexdigest()\n",
    "        except Exception as error:\n",
    "            log.warning(\n",
    "                f'Error trying to hash item: {str(path)}\\nError:\\n{error}')\n",
    "            return\n",
    "    else:\n",
    "        dbg(f'Item is a directory and will not be hashed.  {str(path)}')\n",
    "        return\n",
    "def glob_paths(path):\n",
    "    try:\n",
    "        path = Path(path)\n",
    "        if path.is_dir():\n",
    "            return path.rglob('*')\n",
    "        else:\n",
    "            return path\n",
    "    except Exception as error:\n",
    "        log.warning(error)"
   ]
  },
  {
   "cell_type": "code",
   "execution_count": 12,
   "metadata": {},
   "outputs": [],
   "source": [
    "def get_stat(path, opt_md5=True, opt_pid=False) -> dict:\n",
    "    log.debug(path)\n",
    "    try:\n",
    "        path = Path(path)\n",
    "        info = dict([\n",
    "            _ for _ in inspect.getmembers(path.lstat())\n",
    "            if not _[0].startswith('_') and not inspect.isbuiltin(_[1])\n",
    "        ])\n",
    "        info.update(\n",
    "            dict([\n",
    "                (_[0], str(_[1])) for _ in inspect.getmembers(path)\n",
    "                if '__' not in _[0] and '<' not in str(_[1])\n",
    "            ]))\n",
    "        info.update(\n",
    "            dict([(str(_[0]), methodcaller(_[0])(path))\n",
    "                  for _ in inspect.getmembers(path)\n",
    "                  if _[0].startswith('is_') and _[0] != 'is_mount']))\n",
    "        info['path'] = str(path)\n",
    "        info['path_hash'] = hash_utf8(str(path))\n",
    "        info['f_atime'] = dt.datetime.fromtimestamp(info['st_atime'])\n",
    "        info['f_ctime'] = dt.datetime.fromtimestamp(info['st_ctime'])\n",
    "        info['f_mtime'] = dt.datetime.fromtimestamp(info['st_mtime'])\n",
    "        if opt_md5:\n",
    "            if not path.is_dir():\n",
    "                try:\n",
    "                    md5_hash = md5_blocks(path)\n",
    "                    info['md5'] = md5_hash\n",
    "                except:\n",
    "                    log.warning(f'Could not hash item: {str(path)}')\n",
    "            else:\n",
    "                log.debug(f'Item is a directory and will not be hashed.  {str(path)}'\n",
    "                    )\n",
    "        if opt_pid:\n",
    "            log.debug(f\"working using OS pid: {os.getpid()}, opt_pid: {opt_pid}\")\n",
    "        return info\n",
    "    except Exception as error:\n",
    "        log.warning(error)\n",
    "        return {'path': str(path)}"
   ]
  },
  {
   "cell_type": "code",
   "execution_count": 13,
   "metadata": {},
   "outputs": [
    {
     "data": {
      "text/plain": [
       "{'n_fields': 19,\n",
       " 'n_sequence_fields': 10,\n",
       " 'n_unnamed_fields': 3,\n",
       " 'st_atime': 1563120876.44357,\n",
       " 'st_atime_ns': 1563120876443569800,\n",
       " 'st_blksize': 16384,\n",
       " 'st_blocks': 24,\n",
       " 'st_ctime': 1563120876.44357,\n",
       " 'st_ctime_ns': 1563120876443569800,\n",
       " 'st_dev': 121,\n",
       " 'st_gid': 0,\n",
       " 'st_ino': 783,\n",
       " 'st_mode': 16895,\n",
       " 'st_mtime': 1563120876.44357,\n",
       " 'st_mtime_ns': 1563120876443569800,\n",
       " 'st_nlink': 2,\n",
       " 'st_rdev': 0,\n",
       " 'st_size': 12288,\n",
       " 'st_uid': 0,\n",
       " '_closed': 'False',\n",
       " '_cparts': '[]',\n",
       " '_drv': '',\n",
       " '_parts': '[]',\n",
       " '_root': '',\n",
       " '_str': '.',\n",
       " 'anchor': '',\n",
       " 'drive': '',\n",
       " 'name': '',\n",
       " 'parent': '.',\n",
       " 'parts': '()',\n",
       " 'root': '',\n",
       " 'stem': '',\n",
       " 'suffix': '',\n",
       " 'suffixes': '[]',\n",
       " 'is_absolute': False,\n",
       " 'is_block_device': False,\n",
       " 'is_char_device': False,\n",
       " 'is_dir': True,\n",
       " 'is_fifo': False,\n",
       " 'is_file': False,\n",
       " 'is_reserved': False,\n",
       " 'is_socket': False,\n",
       " 'is_symlink': False,\n",
       " 'path': '.',\n",
       " 'path_hash': '5058f1af8388633f609cadb75a75dc9d',\n",
       " 'f_atime': datetime.datetime(2019, 7, 14, 16, 14, 36, 443570),\n",
       " 'f_ctime': datetime.datetime(2019, 7, 14, 16, 14, 36, 443570),\n",
       " 'f_mtime': datetime.datetime(2019, 7, 14, 16, 14, 36, 443570)}"
      ]
     },
     "execution_count": 13,
     "metadata": {},
     "output_type": "execute_result"
    }
   ],
   "source": [
    "path = Path('.')\n",
    "get_stat(path)"
   ]
  },
  {
   "cell_type": "code",
   "execution_count": null,
   "metadata": {},
   "outputs": [],
   "source": []
  },
  {
   "cell_type": "code",
   "execution_count": 20,
   "metadata": {},
   "outputs": [],
   "source": [
    "def flatten(lists):\n",
    "    return reduce(lambda res, x: res + (flatten(x) if isinstance(x, list) else [x]), lists, [])"
   ]
  },
  {
   "cell_type": "code",
   "execution_count": 23,
   "metadata": {},
   "outputs": [],
   "source": [
    "from functools import reduce"
   ]
  },
  {
   "cell_type": "code",
   "execution_count": null,
   "metadata": {},
   "outputs": [],
   "source": []
  },
  {
   "cell_type": "code",
   "execution_count": null,
   "metadata": {},
   "outputs": [],
   "source": []
  },
  {
   "cell_type": "code",
   "execution_count": null,
   "metadata": {},
   "outputs": [],
   "source": [
    "%%time\n",
    "basepaths = ['..']\n",
    "opt_md5=False\n",
    "#def proc_paths(basepaths, opt_md5=True):\n",
    "\"\"\"proc_paths uses Dask client to map path_stat over basepaths.\"\"\"\n",
    "paths = chain.from_iterable(map(glob_paths, basepaths))\n",
    "pstat = partial(get_stat, opt_md5=opt_md5, opt_pid=True)\n",
    "results = client.map(pstat, paths)\n",
    "data = [_.result() for _ in results]\n",
    "ddf = dd.from_pandas(pd.DataFrame(data), npartitions=4)\n",
    "df = ddf.compute()\n",
    "#df['idx'] = df.index\n",
    "#df['path_hash'] = df.path.map(str).map(hash_utf8)\n",
    "#times = df.loc[:, ['idx', 'path', 'f_ctime', 'f_mtime', 'f_atime']].melt(id_vars=['idx', 'path'])"
   ]
  },
  {
   "cell_type": "code",
   "execution_count": 397,
   "metadata": {},
   "outputs": [
    {
     "name": "stdout",
     "output_type": "stream",
     "text": [
      "507\n",
      "34\n",
      "34\n",
      "507\n"
     ]
    }
   ],
   "source": [
    "path = Path('..')\n",
    "basepaths = [str(path)]\n",
    "def proc_item(path):\n",
    "    return [*map(str, path.iterdir())] + [*map(proc_item, filter(Path.is_dir, path.iterdir()))]\n",
    "result = proc_item(path)\n",
    "print(len([*path.rglob('*')]))\n",
    "print(len(result))\n",
    "results = [*result]\n",
    "print(len(results))\n",
    "final = flatten(results)\n",
    "print(len(final))"
   ]
  },
  {
   "cell_type": "code",
   "execution_count": 24,
   "metadata": {},
   "outputs": [
    {
     "data": {
      "text/plain": [
       "['.ipynb_checkpoints/cli-checkpoint.py',\n",
       " '.ipynb_checkpoints/cli2-checkpoint.py',\n",
       " '.ipynb_checkpoints/examinator-checkpoint.py',\n",
       " '.ipynb_checkpoints/Examinator_testing-checkpoint.ipynb',\n",
       " '.ipynb_checkpoints/get_file_info-checkpoint.ipynb',\n",
       " '.ipynb_checkpoints/get_file_info-checkpoint.py',\n",
       " '.ipynb_checkpoints/get_file_info2-checkpoint.py',\n",
       " '.ipynb_checkpoints/get_file_info3-checkpoint.py',\n",
       " '.ipynb_checkpoints/scratch-checkpoint.ipynb',\n",
       " '.ipynb_checkpoints/script-checkpoint.py',\n",
       " '.ipynb_checkpoints/test_joblib-checkpoint.py',\n",
       " '.ipynb_checkpoints/untitled-checkpoint.py',\n",
       " 'dask-worker-space/global.lock',\n",
       " 'dask-worker-space/purge.lock',\n",
       " 'daskerator.py',\n",
       " 'examinator.py',\n",
       " 'Examinator_testing.ipynb',\n",
       " 'Examinator_testing.ipynb.py',\n",
       " 'old/cli.py',\n",
       " 'old/cli2.py',\n",
       " 'old/examinator.py',\n",
       " 'old/examinator2.py',\n",
       " 'old/get_file_info.ipynb',\n",
       " 'old/get_file_info.py',\n",
       " 'old/get_file_info2.py',\n",
       " 'old/script.py',\n",
       " 'parquet/part.0.parquet',\n",
       " 'parquet/part.1.parquet',\n",
       " 'parquet/part.2.parquet',\n",
       " 'parquet/part.3.parquet',\n",
       " 'root/.cache/matplotlib/fontlist-v300.json',\n",
       " 'scratch/.ipynb_checkpoints/asyncio_example-checkpoint.py',\n",
       " 'scratch/.ipynb_checkpoints/ex_async-checkpoint.py',\n",
       " 'scratch/.ipynb_checkpoints/loguru_issue-checkpoint.py',\n",
       " 'scratch/.ipynb_checkpoints/scratch-checkpoint.ipynb',\n",
       " 'scratch/.ipynb_checkpoints/test_q-checkpoint.py',\n",
       " 'scratch/.ipynb_checkpoints/test_threading-checkpoint.py',\n",
       " 'scratch/20190407_rdir.py',\n",
       " 'scratch/asyncio_example.py',\n",
       " 'scratch/ex_async.py',\n",
       " 'scratch/loguru_issue.py',\n",
       " 'scratch/scratch.ipynb',\n",
       " 'scratch/test_joblib.py',\n",
       " 'scratch/test_q.py',\n",
       " 'scratch/test_threading.py',\n",
       " '__init__.py',\n",
       " '__pycache__/examinator.cpython-36.pyc',\n",
       " '__pycache__/examinator.cpython-37.pyc',\n",
       " '__pycache__/examinator.cpython-38.pyc',\n",
       " '__pycache__/examinator2.cpython-36.pyc',\n",
       " '__pycache__/examinator2.cpython-37.pyc',\n",
       " '__pycache__/get_file_info.cpython-36.pyc',\n",
       " '__pycache__/get_file_info.cpython-37.pyc',\n",
       " '__pycache__/get_file_info2.cpython-37.pyc',\n",
       " '__pycache__/get_file_info3.cpython-37.pyc',\n",
       " '~/.cache/matplotlib/fontlist-v300.json']"
      ]
     },
     "execution_count": 24,
     "metadata": {},
     "output_type": "execute_result"
    }
   ],
   "source": [
    "def flatten(lists):\n",
    "    return reduce(lambda res, x: res + (flatten(x.iterdir()) if x.is_dir() else [str(x)]), lists, [])\n",
    "flatten(Path('.').iterdir())"
   ]
  },
  {
   "cell_type": "code",
   "execution_count": 432,
   "metadata": {},
   "outputs": [
    {
     "data": {
      "text/plain": [
       "['.ipynb_checkpoints/cli-checkpoint.py',\n",
       " '.ipynb_checkpoints/cli2-checkpoint.py',\n",
       " '.ipynb_checkpoints/examinator-checkpoint.py',\n",
       " '.ipynb_checkpoints/get_file_info-checkpoint.ipynb',\n",
       " '.ipynb_checkpoints/get_file_info-checkpoint.py',\n",
       " '.ipynb_checkpoints/get_file_info2-checkpoint.py',\n",
       " '.ipynb_checkpoints/scratch-checkpoint.ipynb',\n",
       " '.ipynb_checkpoints/script-checkpoint.py',\n",
       " '.ipynb_checkpoints/test_joblib-checkpoint.py',\n",
       " '.ipynb_checkpoints/Untitled-checkpoint.ipynb',\n",
       " '.ipynb_checkpoints/untitled-checkpoint.py',\n",
       " 'cli.py',\n",
       " 'cli2.py',\n",
       " 'dask-worker-space/global.lock',\n",
       " 'dask-worker-space/purge.lock',\n",
       " 'dask-worker-space/worker-1ewi8jgm.dirlock',\n",
       " 'dask-worker-space/worker-6iukt8s7.dirlock',\n",
       " 'dask-worker-space/worker-7_r9up0f.dirlock',\n",
       " 'daskerator.py',\n",
       " 'examinator.py',\n",
       " 'examinator2.py',\n",
       " 'get_file_info.ipynb',\n",
       " 'get_file_info.py',\n",
       " 'get_file_info2.py',\n",
       " 'get_file_info3.py',\n",
       " 'scratch/.ipynb_checkpoints/asyncio_example-checkpoint.py',\n",
       " 'scratch/.ipynb_checkpoints/ex_async-checkpoint.py',\n",
       " 'scratch/.ipynb_checkpoints/loguru_issue-checkpoint.py',\n",
       " 'scratch/.ipynb_checkpoints/scratch-checkpoint.ipynb',\n",
       " 'scratch/.ipynb_checkpoints/test_q-checkpoint.py',\n",
       " 'scratch/.ipynb_checkpoints/test_threading-checkpoint.py',\n",
       " 'scratch/asyncio_example.py',\n",
       " 'scratch/ex_async.py',\n",
       " 'scratch/loguru_issue.py',\n",
       " 'scratch/scratch.ipynb',\n",
       " 'scratch/test_q.py',\n",
       " 'scratch/test_threading.py',\n",
       " 'script.py',\n",
       " 'test_joblib.py',\n",
       " 'Untitled.ipynb',\n",
       " 'untitled.py',\n",
       " '__init__.py',\n",
       " '__pycache__/examinator.cpython-36.pyc',\n",
       " '__pycache__/examinator.cpython-37.pyc',\n",
       " '__pycache__/examinator.cpython-38.pyc',\n",
       " '__pycache__/examinator2.cpython-36.pyc',\n",
       " '__pycache__/examinator2.cpython-37.pyc',\n",
       " '__pycache__/get_file_info.cpython-36.pyc',\n",
       " '__pycache__/get_file_info.cpython-37.pyc',\n",
       " '__pycache__/get_file_info2.cpython-37.pyc',\n",
       " '__pycache__/get_file_info3.cpython-37.pyc']"
      ]
     },
     "execution_count": 432,
     "metadata": {},
     "output_type": "execute_result"
    }
   ],
   "source": [
    "is_iter = lambda item: item.is_dir()\n",
    "rfunc = lambda res, x: res + (flatten(x.iterdir()) if is_iter(x) else [str(x)])\n",
    "def flatten(iterator):\n",
    "    return reduce(rfunc, iterator, [])\n",
    "flatten(Path('.').iterdir())"
   ]
  },
  {
   "cell_type": "code",
   "execution_count": 467,
   "metadata": {},
   "outputs": [
    {
     "data": {
      "text/plain": [
       "[PosixPath('.ipynb_checkpoints/cli-checkpoint.py'),\n",
       " PosixPath('.ipynb_checkpoints/cli2-checkpoint.py'),\n",
       " PosixPath('.ipynb_checkpoints/examinator-checkpoint.py'),\n",
       " PosixPath('.ipynb_checkpoints/get_file_info-checkpoint.ipynb'),\n",
       " PosixPath('.ipynb_checkpoints/get_file_info-checkpoint.py'),\n",
       " PosixPath('.ipynb_checkpoints/get_file_info2-checkpoint.py'),\n",
       " PosixPath('.ipynb_checkpoints/scratch-checkpoint.ipynb'),\n",
       " PosixPath('.ipynb_checkpoints/script-checkpoint.py'),\n",
       " PosixPath('.ipynb_checkpoints/test_joblib-checkpoint.py'),\n",
       " PosixPath('.ipynb_checkpoints/Untitled-checkpoint.ipynb'),\n",
       " PosixPath('.ipynb_checkpoints/untitled-checkpoint.py'),\n",
       " PosixPath('cli.py'),\n",
       " PosixPath('cli2.py'),\n",
       " PosixPath('dask-worker-space/global.lock'),\n",
       " PosixPath('dask-worker-space/purge.lock'),\n",
       " PosixPath('dask-worker-space/worker-1ewi8jgm.dirlock'),\n",
       " PosixPath('dask-worker-space/worker-6iukt8s7.dirlock'),\n",
       " PosixPath('dask-worker-space/worker-7_r9up0f.dirlock'),\n",
       " PosixPath('daskerator.py'),\n",
       " PosixPath('examinator.py'),\n",
       " PosixPath('examinator2.py'),\n",
       " PosixPath('get_file_info.ipynb'),\n",
       " PosixPath('get_file_info.py'),\n",
       " PosixPath('get_file_info2.py'),\n",
       " PosixPath('get_file_info3.py'),\n",
       " PosixPath('scratch/.ipynb_checkpoints/asyncio_example-checkpoint.py'),\n",
       " PosixPath('scratch/.ipynb_checkpoints/ex_async-checkpoint.py'),\n",
       " PosixPath('scratch/.ipynb_checkpoints/loguru_issue-checkpoint.py'),\n",
       " PosixPath('scratch/.ipynb_checkpoints/scratch-checkpoint.ipynb'),\n",
       " PosixPath('scratch/.ipynb_checkpoints/test_q-checkpoint.py'),\n",
       " PosixPath('scratch/.ipynb_checkpoints/test_threading-checkpoint.py'),\n",
       " PosixPath('scratch/asyncio_example.py'),\n",
       " PosixPath('scratch/ex_async.py'),\n",
       " PosixPath('scratch/loguru_issue.py'),\n",
       " PosixPath('scratch/scratch.ipynb'),\n",
       " PosixPath('scratch/test_q.py'),\n",
       " PosixPath('scratch/test_threading.py'),\n",
       " PosixPath('script.py'),\n",
       " PosixPath('test_joblib.py'),\n",
       " PosixPath('Untitled.ipynb'),\n",
       " PosixPath('untitled.py'),\n",
       " PosixPath('__init__.py'),\n",
       " PosixPath('__pycache__/examinator.cpython-36.pyc'),\n",
       " PosixPath('__pycache__/examinator.cpython-37.pyc'),\n",
       " PosixPath('__pycache__/examinator.cpython-38.pyc'),\n",
       " PosixPath('__pycache__/examinator2.cpython-36.pyc'),\n",
       " PosixPath('__pycache__/examinator2.cpython-37.pyc'),\n",
       " PosixPath('__pycache__/get_file_info.cpython-36.pyc'),\n",
       " PosixPath('__pycache__/get_file_info.cpython-37.pyc'),\n",
       " PosixPath('__pycache__/get_file_info2.cpython-37.pyc'),\n",
       " PosixPath('__pycache__/get_file_info3.cpython-37.pyc')]"
      ]
     },
     "execution_count": 467,
     "metadata": {},
     "output_type": "execute_result"
    }
   ],
   "source": [
    "import operator\n",
    "is_iter = lambda item: item.is_dir()\n",
    "get_kids = lambda parent: parent.iterdir()\n",
    "get_val = lambda item: flatten(get_kids(item)) if is_iter(item) else [item]\n",
    "def flatten(iterator):\n",
    "    results = []\n",
    "    for i in iterator:\n",
    "        results = partial(operator.add, results)(get_val(i))\n",
    "    return results\n",
    "[*flatten(Path('.').iterdir())]"
   ]
  },
  {
   "cell_type": "code",
   "execution_count": null,
   "metadata": {},
   "outputs": [],
   "source": []
  },
  {
   "cell_type": "code",
   "execution_count": null,
   "metadata": {},
   "outputs": [],
   "source": []
  },
  {
   "cell_type": "code",
   "execution_count": null,
   "metadata": {},
   "outputs": [],
   "source": []
  },
  {
   "cell_type": "code",
   "execution_count": 25,
   "metadata": {},
   "outputs": [
    {
     "data": {
      "text/plain": [
       "['.ipynb_checkpoints',\n",
       " 'dask-worker-space',\n",
       " 'daskerator.py',\n",
       " 'examinator.py',\n",
       " 'Examinator_testing.ipynb',\n",
       " 'Examinator_testing.ipynb.py',\n",
       " 'old',\n",
       " 'parquet',\n",
       " 'root',\n",
       " 'scratch',\n",
       " '__init__.py',\n",
       " '__pycache__',\n",
       " '~']"
      ]
     },
     "execution_count": 25,
     "metadata": {},
     "output_type": "execute_result"
    }
   ],
   "source": [
    "def get_dir(d):\n",
    "    path = Path(d)\n",
    "    if path.is_dir():\n",
    "        return [str(_) for _ in path.iterdir()]\n",
    "get_dir('.')"
   ]
  },
  {
   "cell_type": "code",
   "execution_count": 26,
   "metadata": {},
   "outputs": [],
   "source": [
    "from queue import Queue\n",
    "from threading import Thread\n",
    "\n",
    "def multiplex(n, q, **kwargs):\n",
    "    \"\"\" Convert one queue into several equivalent Queues\n",
    "\n",
    "    >>> q1, q2, q3 = multiplex(3, in_q)\n",
    "    \"\"\"\n",
    "    out_queues = [Queue(**kwargs) for i in range(n)]\n",
    "    def f():\n",
    "        while True:\n",
    "            x = q.get()\n",
    "            for out_q in out_queues:\n",
    "                out_q.put(x)\n",
    "    t = Thread(target=f)\n",
    "    t.daemon = True\n",
    "    t.start()\n",
    "    return out_queues\n",
    "\n",
    "def push(in_q, out_q):\n",
    "    while True:\n",
    "        x = in_q.get()\n",
    "        out_q.put(x)\n",
    "\n",
    "def merge(*in_qs, **kwargs):\n",
    "    \"\"\" Merge multiple queues together\n",
    "\n",
    "    >>> out_q = merge(q1, q2, q3)\n",
    "    \"\"\"\n",
    "    out_q = Queue(**kwargs)\n",
    "    threads = [Thread(target=push, args=(q, out_q)) for q in in_qs]\n",
    "    for t in threads:\n",
    "        t.daemon = True\n",
    "        t.start()\n",
    "    return out_q"
   ]
  },
  {
   "cell_type": "markdown",
   "metadata": {},
   "source": [
    "# TODO:\n",
    "- Progress display\n",
    " - Create additional copy q, thread func to count items in q\n",
    " - Terminate main loop and threads upon completion rather than count down/time out\n",
    " - itertoolz.count glob?\n",
    "- Progress persistence, resumuption\n",
    "- Result persistence, db storage"
   ]
  },
  {
   "cell_type": "code",
   "execution_count": 27,
   "metadata": {},
   "outputs": [],
   "source": [
    "from queue import Queue\n",
    "from threading import Thread\n",
    "from time import sleep"
   ]
  },
  {
   "cell_type": "code",
   "execution_count": 35,
   "metadata": {},
   "outputs": [],
   "source": [
    "q = Queue()\n",
    "remote_q = client.scatter(q)\n",
    "q1, q2 = multiplex(2, remote_q)\n",
    "list_q = client.map(get_dir, q1)\n",
    "l_q = client.gather(list_q)\n",
    "\n",
    "opt_md5 = True\n",
    "\n",
    "pstat = partial(get_stat, opt_md5=opt_md5, opt_pid=False)\n",
    "q3 = client.map(pstat, q2)\n",
    "q4, q5 = multiplex(2, q3)\n",
    "result_q = client.gather(q4)\n",
    "\n",
    "qs = [q, remote_q, q1, q2, list_q, l_q, q3, q4, result_q]"
   ]
  },
  {
   "cell_type": "code",
   "execution_count": 28,
   "metadata": {},
   "outputs": [],
   "source": [
    "def load_dir(from_q, to_q, stop=False):\n",
    "    limit = 300\n",
    "    i = limit\n",
    "    while True and ((i and not stop()) or from_q.qsize()):\n",
    "        if from_q.qsize():\n",
    "            l = from_q.get()\n",
    "            if isinstance(l, list):\n",
    "                for item in l:\n",
    "                    to_q.put(item)\n",
    "            i = min(i+1, limit)\n",
    "        else:\n",
    "            i -= 1\n",
    "            sleep(.1)\n",
    "    if stop():\n",
    "        print('load_dir stopped.')\n",
    "    elif not i:\n",
    "        print('load_dir stopped by i')"
   ]
  },
  {
   "cell_type": "code",
   "execution_count": 29,
   "metadata": {},
   "outputs": [],
   "source": [
    "def unloadq(q, stop, limit=2000, rest=.1, check=100):\n",
    "    i = limit\n",
    "    loops = 0\n",
    "    results = []\n",
    "    while True and ((i and not stop()) or q.qsize()):\n",
    "        loops += 1\n",
    "        if loops % check == 0:\n",
    "            print(i, loops, len(results))\n",
    "        if q.qsize():\n",
    "            x = q.get()\n",
    "            #print(x)\n",
    "            results.append(x)\n",
    "            i = min(i+1, limit)\n",
    "        else:\n",
    "            i -= 1\n",
    "            if i % check == 0:\n",
    "                print(i)\n",
    "            sleep(rest)\n",
    "    if stop():\n",
    "        print('Unloadq stopped.')\n",
    "    elif not i:\n",
    "        print('Unloadq stopped by i')\n",
    "    return results"
   ]
  },
  {
   "cell_type": "code",
   "execution_count": null,
   "metadata": {},
   "outputs": [],
   "source": []
  },
  {
   "cell_type": "code",
   "execution_count": null,
   "metadata": {},
   "outputs": [],
   "source": [
    "# Troubleshooting problem with thread not running\n",
    "\n",
    "#from concurrent.futures import ThreadPoolExecutor\n",
    "stop_threads = False\n",
    "stop = lambda: stop_threads\n",
    "basepaths = ['.']\n",
    "#t = ThreadPoolExecutor()\n",
    "thread = Thread(target=load_dir, args=(l_q, q, stop,), daemon = True)\n",
    "thread.start()\n",
    "i = 100\n",
    "while (True or l_q.qsize()) and i:\n",
    "    item = l_q.get()\n",
    "    if item:\n",
    "        i = min(i+1, 100)\n",
    "    print(item)\n",
    "    i = max(i-1, 0)\n",
    "    if i % 10 == 0:\n",
    "        print(l_q.qsize(), i)\n",
    "    sleep(.1)\n",
    "stop_threads = True"
   ]
  },
  {
   "cell_type": "code",
   "execution_count": null,
   "metadata": {},
   "outputs": [],
   "source": []
  },
  {
   "cell_type": "code",
   "execution_count": 37,
   "metadata": {},
   "outputs": [
    {
     "name": "stdout",
     "output_type": "stream",
     "text": [
      "True\n"
     ]
    },
    {
     "data": {
      "text/plain": [
       "[None]"
      ]
     },
     "execution_count": 37,
     "metadata": {},
     "output_type": "execute_result"
    },
    {
     "name": "stdout",
     "output_type": "stream",
     "text": [
      "i: 9\n",
      "i: 8\n",
      "23 9\n",
      "True\n"
     ]
    },
    {
     "name": "stderr",
     "output_type": "stream",
     "text": [
      "Exception in thread Threaded gather():\n",
      "Traceback (most recent call last):\n",
      "  File \"/opt/conda/lib/python3.6/threading.py\", line 916, in _bootstrap_inner\n",
      "    self.run()\n",
      "  File \"/opt/conda/lib/python3.6/threading.py\", line 864, in run\n",
      "    self._target(*self._args, **self._kwargs)\n",
      "  File \"/opt/conda/lib/python3.6/site-packages/distributed/client.py\", line 1747, in _threaded_gather\n",
      "    results = self.gather(L, **kwargs)\n",
      "  File \"/opt/conda/lib/python3.6/site-packages/distributed/client.py\", line 1822, in gather\n",
      "    asynchronous=asynchronous,\n",
      "  File \"/opt/conda/lib/python3.6/site-packages/distributed/client.py\", line 753, in sync\n",
      "    return sync(self.loop, func, *args, **kwargs)\n",
      "  File \"/opt/conda/lib/python3.6/site-packages/distributed/utils.py\", line 331, in sync\n",
      "    six.reraise(*error[0])\n",
      "  File \"/opt/conda/lib/python3.6/site-packages/six.py\", line 693, in reraise\n",
      "    raise value\n",
      "  File \"/opt/conda/lib/python3.6/site-packages/distributed/utils.py\", line 316, in f\n",
      "    result[0] = yield future\n",
      "  File \"/opt/conda/lib/python3.6/site-packages/tornado/gen.py\", line 729, in run\n",
      "    value = future.result()\n",
      "  File \"/opt/conda/lib/python3.6/site-packages/tornado/gen.py\", line 736, in run\n",
      "    yielded = self.gen.throw(*exc_info)  # type: ignore\n",
      "  File \"/opt/conda/lib/python3.6/site-packages/distributed/client.py\", line 1653, in _gather\n",
      "    six.reraise(type(exception), exception, traceback)\n",
      "  File \"/opt/conda/lib/python3.6/site-packages/six.py\", line 692, in reraise\n",
      "    raise value.with_traceback(tb)\n",
      "  File \"/opt/conda/lib/python3.6/site-packages/distributed/protocol/pickle.py\", line 61, in loads\n",
      "    return pickle.loads(x)\n",
      "ModuleNotFoundError: No module named 'bllb'\n",
      "\n"
     ]
    },
    {
     "name": "stdout",
     "output_type": "stream",
     "text": [
      "25 10\n",
      "True\n",
      "48 10\n",
      "True\n",
      "48 10\n",
      "True\n",
      "48 10\n",
      "True\n",
      "48 10\n",
      "True\n",
      "67 10\n",
      "True\n",
      "67 10\n",
      "True\n",
      "87 10\n",
      "True\n",
      "83 10\n",
      "True\n",
      "102 10\n",
      "True\n",
      "99 10\n",
      "True\n",
      "94 10\n",
      "True\n",
      "89 10\n",
      "True\n",
      "84 10\n",
      "True\n",
      "79 10\n",
      "True\n",
      "86 10\n",
      "True\n",
      "85 10\n",
      "True\n",
      "82 10\n",
      "True\n",
      "79 10\n",
      "True\n",
      "79 10\n",
      "True\n",
      "78 10\n",
      "True\n",
      "75 10\n",
      "True\n",
      "76 10\n",
      "True\n",
      "74 10\n",
      "True\n",
      "73 10\n",
      "True\n",
      "72 10\n",
      "True\n",
      "73 10\n",
      "True\n",
      "71 10\n",
      "True\n",
      "71 10\n",
      "True\n",
      "71 10\n",
      "True\n",
      "71 10\n",
      "True\n",
      "71 10\n",
      "True\n",
      "71 10\n",
      "True\n",
      "71 10\n",
      "True\n",
      "71 10\n",
      "True\n",
      "71 10\n",
      "True\n",
      "71 10\n",
      "True\n",
      "71 10\n",
      "True\n",
      "71 10\n",
      "True\n",
      "71 10\n",
      "True\n",
      "71 10\n",
      "True\n",
      "71 10\n",
      "True\n",
      "71 10\n",
      "True\n",
      "71 10\n",
      "True\n",
      "71 10\n",
      "True\n",
      "71 10\n",
      "True\n",
      "71 10\n",
      "True\n",
      "71 10\n",
      "True\n",
      "71 10\n",
      "True\n",
      "71 10\n",
      "True\n",
      "71 10\n",
      "True\n",
      "71 10\n",
      "True\n",
      "71 10\n",
      "True\n",
      "71 10\n",
      "True\n",
      "71 10\n",
      "True\n",
      "71 10\n",
      "True\n",
      "71 10\n",
      "True\n",
      "71 10\n",
      "True\n",
      "71 10\n",
      "True\n",
      "71 10\n",
      "True\n",
      "71 10\n",
      "True\n",
      "71 10\n",
      "True\n",
      "71 10\n",
      "True\n",
      "71 10\n",
      "True\n",
      "71 10\n",
      "True\n",
      "71 10\n",
      "True\n",
      "71 10\n",
      "True\n",
      "71 10\n",
      "True\n",
      "71 10\n",
      "True\n",
      "71 10\n",
      "True\n",
      "71 10\n",
      "True\n",
      "71 10\n",
      "True\n",
      "71 10\n",
      "True\n",
      "71 10\n",
      "True\n",
      "71 10\n",
      "True\n",
      "71 10\n",
      "True\n",
      "71 10\n",
      "True\n",
      "71 10\n",
      "True\n",
      "71 10\n",
      "True\n",
      "71 10\n",
      "True\n",
      "71 10\n",
      "True\n",
      "71 10\n",
      "True\n",
      "71 10\n",
      "True\n",
      "71 10\n",
      "True\n",
      "71 10\n",
      "True\n",
      "71 10\n",
      "True\n",
      "71 10\n",
      "True\n",
      "71 10\n",
      "True\n",
      "71 10\n",
      "True\n",
      "71 10\n",
      "True\n",
      "71 10\n",
      "True\n",
      "71 10\n",
      "True\n",
      "71 10\n",
      "True\n",
      "71 10\n",
      "True\n",
      "71 10\n",
      "True\n",
      "201 100 0\n",
      "200\n",
      "71 10\n",
      "True\n",
      "71 10\n",
      "True\n",
      "71 10\n",
      "True\n",
      "71 10\n",
      "True\n",
      "71 10\n",
      "True\n",
      "71 10\n",
      "True\n",
      "71 10\n",
      "True\n",
      "71 10\n",
      "True\n",
      "71 10\n",
      "True\n",
      "71 10\n",
      "True\n",
      "71 10\n",
      "True\n",
      "71 10\n",
      "True\n",
      "71 10\n",
      "True\n",
      "71 10\n",
      "True\n",
      "71 10\n",
      "True\n",
      "71 10\n",
      "True\n",
      "71 10\n",
      "True\n",
      "71 10\n",
      "True\n",
      "71 10\n",
      "True\n",
      "71 10\n",
      "True\n",
      "71 10\n",
      "True\n",
      "71 10\n",
      "True\n",
      "71 10\n",
      "True\n",
      "71 10\n",
      "True\n",
      "71 10\n",
      "True\n",
      "71 10\n",
      "True\n",
      "71 10\n",
      "True\n",
      "71 10\n",
      "True\n",
      "71 10\n",
      "True\n",
      "71 10\n",
      "True\n",
      "71 10\n",
      "True\n",
      "71 10\n",
      "True\n",
      "71 10\n",
      "True\n",
      "71 10\n",
      "True\n",
      "71 10\n",
      "True\n",
      "71 10\n",
      "True\n",
      "71 10\n",
      "True\n",
      "71 10\n",
      "True\n",
      "71 10\n",
      "True\n",
      "71 10\n",
      "True\n",
      "71 10\n",
      "True\n",
      "71 10\n",
      "True\n",
      "71 10\n",
      "True\n",
      "71 10\n",
      "True\n",
      "71 10\n",
      "True\n",
      "71 10\n",
      "True\n",
      "71 10\n",
      "True\n",
      "71 10\n",
      "True\n",
      "71 10\n",
      "True\n",
      "71 10\n",
      "True\n",
      "71 10\n",
      "True\n",
      "71 10\n",
      "True\n",
      "71 10\n",
      "True\n",
      "71 10\n",
      "True\n",
      "71 10\n",
      "True\n",
      "71 10\n",
      "True\n",
      "71 10\n",
      "True\n",
      "71 10\n",
      "True\n",
      "71 10\n",
      "True\n",
      "71 10\n",
      "True\n",
      "71 10\n",
      "True\n",
      "71 10\n",
      "True\n",
      "71 10\n",
      "True\n",
      "71 10\n",
      "True\n",
      "71 10\n",
      "True\n",
      "71 10\n",
      "True\n",
      "71 10\n",
      "True\n",
      "71 10\n",
      "True\n",
      "71 10\n",
      "True\n",
      "71 10\n",
      "True\n",
      "71 10\n",
      "True\n",
      "71 10\n",
      "True\n",
      "71 10\n",
      "True\n",
      "71 10\n",
      "True\n",
      "71 10\n",
      "True\n",
      "71 10\n",
      "True\n",
      "71 10\n",
      "True\n",
      "71 10\n",
      "True\n",
      "71 10\n",
      "True\n",
      "71 10\n",
      "True\n",
      "71 10\n",
      "True\n",
      "71 10\n",
      "True\n",
      "71 10\n",
      "True\n",
      "71 10\n",
      "True\n",
      "71 10\n",
      "True\n",
      "71 10\n",
      "True\n",
      "71 10\n",
      "True\n",
      "71 10\n",
      "True\n",
      "71 10\n",
      "True\n",
      "71 10\n",
      "True\n",
      "71 10\n",
      "True\n",
      "71 10\n",
      "True\n",
      "71 10\n",
      "True\n",
      "71 10\n",
      "True\n",
      "71 10\n",
      "True\n",
      "71 10\n",
      "True\n",
      "71 10\n",
      "True\n",
      "71 10\n",
      "True\n",
      "71 10\n",
      "True\n",
      "71 10\n",
      "True\n",
      "101 200 0\n",
      "100\n",
      "71 10\n",
      "True\n",
      "71 10\n",
      "True\n",
      "71 10\n",
      "True\n",
      "71 10\n",
      "True\n",
      "71 10\n",
      "True\n",
      "71 10\n",
      "True\n",
      "71 10\n",
      "True\n",
      "71 10\n",
      "True\n",
      "71 10\n",
      "True\n",
      "71 10\n",
      "True\n",
      "71 10\n",
      "True\n"
     ]
    },
    {
     "ename": "KeyboardInterrupt",
     "evalue": "",
     "output_type": "error",
     "traceback": [
      "\u001b[0;31m---------------------------------------------------------------------------\u001b[0m",
      "\u001b[0;31mKeyboardInterrupt\u001b[0m                         Traceback (most recent call last)",
      "\u001b[0;32m<ipython-input-37-891dd8f24185>\u001b[0m in \u001b[0;36m<module>\u001b[0;34m\u001b[0m\n\u001b[1;32m     24\u001b[0m             \u001b[0mprint\u001b[0m\u001b[0;34m(\u001b[0m\u001b[0;34mf'i: {i}'\u001b[0m\u001b[0;34m)\u001b[0m\u001b[0;34m\u001b[0m\u001b[0;34m\u001b[0m\u001b[0m\n\u001b[0;32m---> 25\u001b[0;31m         \u001b[0msleep\u001b[0m\u001b[0;34m(\u001b[0m\u001b[0;36m.1\u001b[0m\u001b[0;34m)\u001b[0m\u001b[0;34m\u001b[0m\u001b[0;34m\u001b[0m\u001b[0m\n\u001b[0m\u001b[1;32m     26\u001b[0m     \u001b[0mstop_threads\u001b[0m \u001b[0;34m=\u001b[0m \u001b[0;32mTrue\u001b[0m\u001b[0;34m\u001b[0m\u001b[0;34m\u001b[0m\u001b[0m\n",
      "\u001b[0;31mKeyboardInterrupt\u001b[0m: ",
      "\nDuring handling of the above exception, another exception occurred:\n",
      "\u001b[0;31mKeyboardInterrupt\u001b[0m                         Traceback (most recent call last)",
      "\u001b[0;32m<ipython-input-37-891dd8f24185>\u001b[0m in \u001b[0;36m<module>\u001b[0;34m\u001b[0m\n\u001b[1;32m     28\u001b[0m     \u001b[0mresults_list\u001b[0m \u001b[0;34m=\u001b[0m \u001b[0mresults_future\u001b[0m\u001b[0;34m.\u001b[0m\u001b[0mresult\u001b[0m\u001b[0;34m(\u001b[0m\u001b[0;34m)\u001b[0m\u001b[0;34m\u001b[0m\u001b[0;34m\u001b[0m\u001b[0m\n\u001b[1;32m     29\u001b[0m     \u001b[0mresults\u001b[0m \u001b[0;34m=\u001b[0m \u001b[0mpd\u001b[0m\u001b[0;34m.\u001b[0m\u001b[0mDataFrame\u001b[0m\u001b[0;34m(\u001b[0m\u001b[0mresults_list\u001b[0m\u001b[0;34m)\u001b[0m\u001b[0;34m\u001b[0m\u001b[0;34m\u001b[0m\u001b[0m\n\u001b[0;32m---> 30\u001b[0;31m     \u001b[0mprint\u001b[0m\u001b[0;34m(\u001b[0m\u001b[0mresults\u001b[0m\u001b[0;34m.\u001b[0m\u001b[0minfo\u001b[0m\u001b[0;34m(\u001b[0m\u001b[0;34m)\u001b[0m\u001b[0;34m)\u001b[0m\u001b[0;34m\u001b[0m\u001b[0;34m\u001b[0m\u001b[0m\n\u001b[0m\u001b[1;32m     31\u001b[0m \u001b[0;31m#t.shutdown(False)\u001b[0m\u001b[0;34m\u001b[0m\u001b[0;34m\u001b[0m\u001b[0;34m\u001b[0m\u001b[0m\n\u001b[1;32m     32\u001b[0m \u001b[0;31m#del(load_thread)\u001b[0m\u001b[0;34m\u001b[0m\u001b[0;34m\u001b[0m\u001b[0;34m\u001b[0m\u001b[0m\n",
      "\u001b[0;32m/opt/conda/lib/python3.6/concurrent/futures/_base.py\u001b[0m in \u001b[0;36m__exit__\u001b[0;34m(self, exc_type, exc_val, exc_tb)\u001b[0m\n\u001b[1;32m    609\u001b[0m \u001b[0;34m\u001b[0m\u001b[0m\n\u001b[1;32m    610\u001b[0m     \u001b[0;32mdef\u001b[0m \u001b[0m__exit__\u001b[0m\u001b[0;34m(\u001b[0m\u001b[0mself\u001b[0m\u001b[0;34m,\u001b[0m \u001b[0mexc_type\u001b[0m\u001b[0;34m,\u001b[0m \u001b[0mexc_val\u001b[0m\u001b[0;34m,\u001b[0m \u001b[0mexc_tb\u001b[0m\u001b[0;34m)\u001b[0m\u001b[0;34m:\u001b[0m\u001b[0;34m\u001b[0m\u001b[0;34m\u001b[0m\u001b[0m\n\u001b[0;32m--> 611\u001b[0;31m         \u001b[0mself\u001b[0m\u001b[0;34m.\u001b[0m\u001b[0mshutdown\u001b[0m\u001b[0;34m(\u001b[0m\u001b[0mwait\u001b[0m\u001b[0;34m=\u001b[0m\u001b[0;32mTrue\u001b[0m\u001b[0;34m)\u001b[0m\u001b[0;34m\u001b[0m\u001b[0;34m\u001b[0m\u001b[0m\n\u001b[0m\u001b[1;32m    612\u001b[0m         \u001b[0;32mreturn\u001b[0m \u001b[0;32mFalse\u001b[0m\u001b[0;34m\u001b[0m\u001b[0;34m\u001b[0m\u001b[0m\n",
      "\u001b[0;32m/opt/conda/lib/python3.6/concurrent/futures/thread.py\u001b[0m in \u001b[0;36mshutdown\u001b[0;34m(self, wait)\u001b[0m\n\u001b[1;32m    150\u001b[0m         \u001b[0;32mif\u001b[0m \u001b[0mwait\u001b[0m\u001b[0;34m:\u001b[0m\u001b[0;34m\u001b[0m\u001b[0;34m\u001b[0m\u001b[0m\n\u001b[1;32m    151\u001b[0m             \u001b[0;32mfor\u001b[0m \u001b[0mt\u001b[0m \u001b[0;32min\u001b[0m \u001b[0mself\u001b[0m\u001b[0;34m.\u001b[0m\u001b[0m_threads\u001b[0m\u001b[0;34m:\u001b[0m\u001b[0;34m\u001b[0m\u001b[0;34m\u001b[0m\u001b[0m\n\u001b[0;32m--> 152\u001b[0;31m                 \u001b[0mt\u001b[0m\u001b[0;34m.\u001b[0m\u001b[0mjoin\u001b[0m\u001b[0;34m(\u001b[0m\u001b[0;34m)\u001b[0m\u001b[0;34m\u001b[0m\u001b[0;34m\u001b[0m\u001b[0m\n\u001b[0m\u001b[1;32m    153\u001b[0m     \u001b[0mshutdown\u001b[0m\u001b[0;34m.\u001b[0m\u001b[0m__doc__\u001b[0m \u001b[0;34m=\u001b[0m \u001b[0m_base\u001b[0m\u001b[0;34m.\u001b[0m\u001b[0mExecutor\u001b[0m\u001b[0;34m.\u001b[0m\u001b[0mshutdown\u001b[0m\u001b[0;34m.\u001b[0m\u001b[0m__doc__\u001b[0m\u001b[0;34m\u001b[0m\u001b[0;34m\u001b[0m\u001b[0m\n",
      "\u001b[0;32m/opt/conda/lib/python3.6/threading.py\u001b[0m in \u001b[0;36mjoin\u001b[0;34m(self, timeout)\u001b[0m\n\u001b[1;32m   1054\u001b[0m \u001b[0;34m\u001b[0m\u001b[0m\n\u001b[1;32m   1055\u001b[0m         \u001b[0;32mif\u001b[0m \u001b[0mtimeout\u001b[0m \u001b[0;32mis\u001b[0m \u001b[0;32mNone\u001b[0m\u001b[0;34m:\u001b[0m\u001b[0;34m\u001b[0m\u001b[0;34m\u001b[0m\u001b[0m\n\u001b[0;32m-> 1056\u001b[0;31m             \u001b[0mself\u001b[0m\u001b[0;34m.\u001b[0m\u001b[0m_wait_for_tstate_lock\u001b[0m\u001b[0;34m(\u001b[0m\u001b[0;34m)\u001b[0m\u001b[0;34m\u001b[0m\u001b[0;34m\u001b[0m\u001b[0m\n\u001b[0m\u001b[1;32m   1057\u001b[0m         \u001b[0;32melse\u001b[0m\u001b[0;34m:\u001b[0m\u001b[0;34m\u001b[0m\u001b[0;34m\u001b[0m\u001b[0m\n\u001b[1;32m   1058\u001b[0m             \u001b[0;31m# the behavior of a negative timeout isn't documented, but\u001b[0m\u001b[0;34m\u001b[0m\u001b[0;34m\u001b[0m\u001b[0;34m\u001b[0m\u001b[0m\n",
      "\u001b[0;32m/opt/conda/lib/python3.6/threading.py\u001b[0m in \u001b[0;36m_wait_for_tstate_lock\u001b[0;34m(self, block, timeout)\u001b[0m\n\u001b[1;32m   1070\u001b[0m         \u001b[0;32mif\u001b[0m \u001b[0mlock\u001b[0m \u001b[0;32mis\u001b[0m \u001b[0;32mNone\u001b[0m\u001b[0;34m:\u001b[0m  \u001b[0;31m# already determined that the C code is done\u001b[0m\u001b[0;34m\u001b[0m\u001b[0;34m\u001b[0m\u001b[0m\n\u001b[1;32m   1071\u001b[0m             \u001b[0;32massert\u001b[0m \u001b[0mself\u001b[0m\u001b[0;34m.\u001b[0m\u001b[0m_is_stopped\u001b[0m\u001b[0;34m\u001b[0m\u001b[0;34m\u001b[0m\u001b[0m\n\u001b[0;32m-> 1072\u001b[0;31m         \u001b[0;32melif\u001b[0m \u001b[0mlock\u001b[0m\u001b[0;34m.\u001b[0m\u001b[0macquire\u001b[0m\u001b[0;34m(\u001b[0m\u001b[0mblock\u001b[0m\u001b[0;34m,\u001b[0m \u001b[0mtimeout\u001b[0m\u001b[0;34m)\u001b[0m\u001b[0;34m:\u001b[0m\u001b[0;34m\u001b[0m\u001b[0;34m\u001b[0m\u001b[0m\n\u001b[0m\u001b[1;32m   1073\u001b[0m             \u001b[0mlock\u001b[0m\u001b[0;34m.\u001b[0m\u001b[0mrelease\u001b[0m\u001b[0;34m(\u001b[0m\u001b[0;34m)\u001b[0m\u001b[0;34m\u001b[0m\u001b[0;34m\u001b[0m\u001b[0m\n\u001b[1;32m   1074\u001b[0m             \u001b[0mself\u001b[0m\u001b[0;34m.\u001b[0m\u001b[0m_stop\u001b[0m\u001b[0;34m(\u001b[0m\u001b[0;34m)\u001b[0m\u001b[0;34m\u001b[0m\u001b[0;34m\u001b[0m\u001b[0m\n",
      "\u001b[0;31mKeyboardInterrupt\u001b[0m: "
     ]
    }
   ],
   "source": [
    "#load_thread = Thread(target=load_dir, args=(l_q, q,), daemon = True)\n",
    "#load_thread.start()\n",
    "\n",
    "from concurrent.futures import ThreadPoolExecutor\n",
    "basepaths = ['.']\n",
    "with ThreadPoolExecutor() as t:\n",
    "    stop_threads = False\n",
    "    stop = lambda: stop_threads\n",
    "    t_load_dir = t.submit(load_dir, l_q, q, stop)\n",
    "    print(t_load_dir.running())\n",
    "    [q.put(str(Path(path).resolve())) for path in basepaths]\n",
    "    #l_q.put(basepaths)\n",
    "    results_future = t.submit(unloadq, result_q, stop, limit=300)\n",
    "    ilimit = 10\n",
    "    i = ilimit\n",
    "    while True and i or alive:\n",
    "        alive = sum([_q.qsize() for _q in qs])\n",
    "        if alive:\n",
    "            i = min(i+1, ilimit)\n",
    "            print(alive, i)\n",
    "            print(t_load_dir.running())\n",
    "        else:\n",
    "            i -= 1\n",
    "            print(f'i: {i}')\n",
    "        sleep(.1)\n",
    "    stop_threads = True\n",
    "    #results_list = unloadq(result_q, limit=300)\n",
    "    results_list = results_future.result()\n",
    "    results = pd.DataFrame(results_list)\n",
    "    print(results.info())\n",
    "#t.shutdown(False)\n",
    "#del(load_thread)\n",
    "print(q5.qsize())"
   ]
  },
  {
   "cell_type": "code",
   "execution_count": 36,
   "metadata": {},
   "outputs": [
    {
     "data": {
      "text/plain": [
       "[0, 0, 0, 0, 0, 0, 0, 0, 0]"
      ]
     },
     "execution_count": 36,
     "metadata": {},
     "output_type": "execute_result"
    }
   ],
   "source": [
    "[_q.qsize() for _q in qs]"
   ]
  },
  {
   "cell_type": "code",
   "execution_count": null,
   "metadata": {},
   "outputs": [],
   "source": [
    "# Attempting to utilize Dask df to handle, export data\n",
    "\n",
    "def iterq(q):\n",
    "    while q.qsize():\n",
    "        yield q.get()\n",
    "\n",
    "print(q5.qsize())\n",
    "result_count = q5.qsize()\n",
    "data = client.gather(q5)\n",
    "while data.qsize() < result_count:\n",
    "    print('sleeping')\n",
    "    sleep(.1)\n",
    "print(data.qsize())\n",
    "iterdata = [*iterq(data)]\n",
    "print(len(iterdata))\n",
    "df = pd.DataFrame(iterdata)\n",
    "print(len(df))\n",
    "ddf = dd.from_pandas(df, npartitions=4)\n",
    "remote_ddf = client.scatter(ddf)\n",
    "remote_result = remote_ddf.result()\n",
    "remote_result.to_csv('./export4-*.csv')\n",
    "new_ddf = dd.read_csv('./export4-*.csv')\n",
    "new_ddf.compute()"
   ]
  },
  {
   "cell_type": "code",
   "execution_count": 16,
   "metadata": {},
   "outputs": [
    {
     "name": "stdout",
     "output_type": "stream",
     "text": [
      "CPU times: user 0 ns, sys: 0 ns, total: 0 ns\n",
      "Wall time: 11.2 µs\n",
      "26299\n"
     ]
    }
   ],
   "source": [
    "%time\n",
    "from toolz import itertoolz\n",
    "print(itertoolz.count(Path('../..').rglob('*')))"
   ]
  },
  {
   "cell_type": "code",
   "execution_count": 24,
   "metadata": {},
   "outputs": [
    {
     "name": "stdout",
     "output_type": "stream",
     "text": [
      "47\n",
      "['id', 'name', '_str', 'drive', 'st_mtime', '_cparts', 'parent', 'parts', 'st_atime', 'is_file', 'is_fifo', 'st_blocks', 'st_ctime', 'is_dir', 'st_mode', 'st_ino', '_root', 'root', 'md5', 'st_dev', 'st_uid', 'is_char_device', 'suffix', 'is_socket', 'n_sequence_fields', 'path', 'is_block_device', '_parts', '_closed', 'anchor', 'path_hash', 'st_gid', 'is_reserved', 'n_fields', 'is_symlink', 'n_unnamed_fields', 'stem', 'st_ctime_ns', 'suffixes', '_drv', 'st_atime_ns', 'is_absolute', 'st_blksize', 'st_size', 'st_rdev', 'st_mtime_ns', 'st_nlink']\n",
      "Index(['id', 'name', '_str', 'drive', 'st_mtime', '_cparts', 'parent', 'parts',\n",
      "       'st_atime', 'is_file', 'is_fifo', 'st_blocks', 'st_ctime', 'is_dir',\n",
      "       'st_mode', 'st_ino', '_root', 'root', 'md5', 'st_dev', 'st_uid',\n",
      "       'is_char_device', 'suffix', 'is_socket', 'n_sequence_fields', 'path',\n",
      "       'is_block_device', '_parts', '_closed', 'anchor', 'path_hash', 'st_gid',\n",
      "       'is_reserved', 'n_fields', 'is_symlink', 'n_unnamed_fields', 'stem',\n",
      "       'st_ctime_ns', 'suffixes', '_drv', 'st_atime_ns', 'is_absolute',\n",
      "       'st_blksize', 'st_size', 'st_rdev', 'st_mtime_ns', 'st_nlink',\n",
      "       'variable'],\n",
      "      dtype='object')\n"
     ]
    },
    {
     "data": {
      "text/plain": [
       "<matplotlib.axes._subplots.AxesSubplot at 0x7f9f0495fbe0>"
      ]
     },
     "execution_count": 24,
     "metadata": {},
     "output_type": "execute_result"
    },
    {
     "data": {
      "image/png": "[encoded data removed]",
      "text/plain": [
       "<Figure size 432x288 with 1 Axes>"
      ]
     },
     "metadata": {
      "needs_background": "light"
     },
     "output_type": "display_data"
    }
   ],
   "source": [
    "times = ['f_ctime', 'f_mtime', 'f_atime']\n",
    "results.index.name = 'id'\n",
    "results['id'] = results.index\n",
    "cols = list(set(results.columns) - set(times))\n",
    "print(len(cols))\n",
    "print(cols)\n",
    "stacked = pd.melt(results, id_vars=cols, value_vars=times, value_name='time').set_index('time')\n",
    "print(stacked.columns)\n",
    "unstacked = stacked.loc[:, ['variable']].groupby('variable').resample('D').count().unstack('variable')\n",
    "unstacked.plot(kind='bar', stacked=True)"
   ]
  },
  {
   "cell_type": "code",
   "execution_count": null,
   "metadata": {},
   "outputs": [],
   "source": []
  },
  {
   "cell_type": "code",
   "execution_count": null,
   "metadata": {},
   "outputs": [],
   "source": []
  },
  {
   "cell_type": "code",
   "execution_count": 26,
   "metadata": {},
   "outputs": [
    {
     "data": {
      "text/plain": [
       "25"
      ]
     },
     "execution_count": 26,
     "metadata": {},
     "output_type": "execute_result"
    },
    {
     "data": {
      "text/plain": [
       "['.bak.gitignore',\n",
       " '.editorconfig',\n",
       " '.git',\n",
       " '.github',\n",
       " '.gitignore',\n",
       " '.ipynb_checkpoints',\n",
       " '.mypy_cache',\n",
       " '.travis.yml',\n",
       " '.vs',\n",
       " '.vscode',\n",
       " 'CONTRIBUTING.rst',\n",
       " 'docs',\n",
       " 'examinator',\n",
       " 'examinator.code-workspace',\n",
       " 'examinator_notes.md',\n",
       " 'HISTORY.rst',\n",
       " 'LICENSE',\n",
       " 'Makefile',\n",
       " 'MANIFEST.in',\n",
       " 'README.rst',\n",
       " 'requirements_dev.txt',\n",
       " 'setup.cfg',\n",
       " 'setup.py',\n",
       " 'tests',\n",
       " 'tox.ini']"
      ]
     },
     "execution_count": 26,
     "metadata": {},
     "output_type": "execute_result"
    }
   ],
   "source": [
    "len(os.listdir('..'))\n",
    "os.listdir('..')"
   ]
  },
  {
   "cell_type": "code",
   "execution_count": 131,
   "metadata": {},
   "outputs": [
    {
     "data": {
      "text/plain": [
       "54"
      ]
     },
     "execution_count": 131,
     "metadata": {},
     "output_type": "execute_result"
    }
   ],
   "source": [
    "def r_listdir(src):\n",
    "    names = os.listdir(src)\n",
    "    results = []\n",
    "    for name in names:\n",
    "        srcname = os.path.join(src, name)\n",
    "        if os.path.isdir(srcname):\n",
    "            results.extend(r_listdir(srcname))\n",
    "        else:\n",
    "            results.append(srcname)\n",
    "    return results\n",
    "len(r_listdir('.'))"
   ]
  },
  {
   "cell_type": "code",
   "execution_count": 33,
   "metadata": {},
   "outputs": [
    {
     "data": {
      "text/plain": [
       "25"
      ]
     },
     "execution_count": 33,
     "metadata": {},
     "output_type": "execute_result"
    }
   ],
   "source": [
    "len([*os.scandir('..')])"
   ]
  },
  {
   "cell_type": "code",
   "execution_count": 78,
   "metadata": {},
   "outputs": [
    {
     "data": {
      "text/plain": [
       "54"
      ]
     },
     "execution_count": 78,
     "metadata": {},
     "output_type": "execute_result"
    }
   ],
   "source": [
    "def r_scandir(src):\n",
    "    names = os.scandir(src)\n",
    "    results = []\n",
    "    for name in names:\n",
    "        if os.path.isdir(name):\n",
    "            results += r_scandir(name)\n",
    "        else:\n",
    "            results.append(name.path)\n",
    "    return results\n",
    "len(r_scandir('.'))"
   ]
  },
  {
   "cell_type": "code",
   "execution_count": 34,
   "metadata": {},
   "outputs": [],
   "source": [
    "import glob"
   ]
  },
  {
   "cell_type": "code",
   "execution_count": 91,
   "metadata": {},
   "outputs": [
    {
     "data": {
      "text/plain": [
       "41"
      ]
     },
     "execution_count": 91,
     "metadata": {},
     "output_type": "execute_result"
    },
    {
     "data": {
      "text/plain": [
       "['cli.py',\n",
       " 'cli2.py',\n",
       " 'dask-worker-space',\n",
       " 'daskerator.py',\n",
       " 'examinator.py',\n",
       " 'examinator2.py',\n",
       " 'Examinator_testing.ipynb',\n",
       " 'get_file_info.ipynb',\n",
       " 'get_file_info.py',\n",
       " 'get_file_info2.py',\n",
       " 'get_file_info3.py',\n",
       " 'parquet',\n",
       " 'scratch',\n",
       " 'script.py',\n",
       " 'test_joblib.py',\n",
       " 'Untitled-1.py',\n",
       " 'untitled.py',\n",
       " '__init__.py',\n",
       " '__pycache__',\n",
       " '~',\n",
       " 'dask-worker-space/global.lock',\n",
       " 'dask-worker-space/purge.lock',\n",
       " 'parquet/part.0.parquet',\n",
       " 'parquet/part.1.parquet',\n",
       " 'parquet/part.2.parquet',\n",
       " 'parquet/part.3.parquet',\n",
       " 'scratch/asyncio_example.py',\n",
       " 'scratch/ex_async.py',\n",
       " 'scratch/loguru_issue.py',\n",
       " 'scratch/scratch.ipynb',\n",
       " 'scratch/test_q.py',\n",
       " 'scratch/test_threading.py',\n",
       " '__pycache__/examinator.cpython-36.pyc',\n",
       " '__pycache__/examinator.cpython-37.pyc',\n",
       " '__pycache__/examinator.cpython-38.pyc',\n",
       " '__pycache__/examinator2.cpython-36.pyc',\n",
       " '__pycache__/examinator2.cpython-37.pyc',\n",
       " '__pycache__/get_file_info.cpython-36.pyc',\n",
       " '__pycache__/get_file_info.cpython-37.pyc',\n",
       " '__pycache__/get_file_info2.cpython-37.pyc',\n",
       " '__pycache__/get_file_info3.cpython-37.pyc']"
      ]
     },
     "execution_count": 91,
     "metadata": {},
     "output_type": "execute_result"
    }
   ],
   "source": [
    "results = glob.glob('**/?*', recursive=True)\n",
    "len(results)\n",
    "results"
   ]
  },
  {
   "cell_type": "code",
   "execution_count": 124,
   "metadata": {},
   "outputs": [
    {
     "data": {
      "text/plain": [
       "54"
      ]
     },
     "execution_count": 124,
     "metadata": {},
     "output_type": "execute_result"
    },
    {
     "data": {
      "text/plain": [
       "['./cli.py',\n",
       " './cli2.py',\n",
       " './daskerator.py',\n",
       " './examinator.py',\n",
       " './examinator2.py',\n",
       " './Examinator_testing.ipynb',\n",
       " './get_file_info.ipynb',\n",
       " './get_file_info.py',\n",
       " './get_file_info2.py',\n",
       " './get_file_info3.py',\n",
       " './script.py',\n",
       " './test_joblib.py',\n",
       " './Untitled-1.py',\n",
       " './untitled.py',\n",
       " './__init__.py',\n",
       " './.ipynb_checkpoints/cli-checkpoint.py',\n",
       " './.ipynb_checkpoints/cli2-checkpoint.py',\n",
       " './.ipynb_checkpoints/examinator-checkpoint.py',\n",
       " './.ipynb_checkpoints/Examinator_testing-checkpoint.ipynb',\n",
       " './.ipynb_checkpoints/get_file_info-checkpoint.ipynb',\n",
       " './.ipynb_checkpoints/get_file_info-checkpoint.py',\n",
       " './.ipynb_checkpoints/get_file_info2-checkpoint.py',\n",
       " './.ipynb_checkpoints/scratch-checkpoint.ipynb',\n",
       " './.ipynb_checkpoints/script-checkpoint.py',\n",
       " './.ipynb_checkpoints/test_joblib-checkpoint.py',\n",
       " './.ipynb_checkpoints/untitled-checkpoint.py',\n",
       " './dask-worker-space/global.lock',\n",
       " './dask-worker-space/purge.lock',\n",
       " './parquet/part.0.parquet',\n",
       " './parquet/part.1.parquet',\n",
       " './parquet/part.2.parquet',\n",
       " './parquet/part.3.parquet',\n",
       " './scratch/asyncio_example.py',\n",
       " './scratch/ex_async.py',\n",
       " './scratch/loguru_issue.py',\n",
       " './scratch/scratch.ipynb',\n",
       " './scratch/test_q.py',\n",
       " './scratch/test_threading.py',\n",
       " './scratch/.ipynb_checkpoints/asyncio_example-checkpoint.py',\n",
       " './scratch/.ipynb_checkpoints/ex_async-checkpoint.py',\n",
       " './scratch/.ipynb_checkpoints/loguru_issue-checkpoint.py',\n",
       " './scratch/.ipynb_checkpoints/scratch-checkpoint.ipynb',\n",
       " './scratch/.ipynb_checkpoints/test_q-checkpoint.py',\n",
       " './scratch/.ipynb_checkpoints/test_threading-checkpoint.py',\n",
       " './__pycache__/examinator.cpython-36.pyc',\n",
       " './__pycache__/examinator.cpython-37.pyc',\n",
       " './__pycache__/examinator.cpython-38.pyc',\n",
       " './__pycache__/examinator2.cpython-36.pyc',\n",
       " './__pycache__/examinator2.cpython-37.pyc',\n",
       " './__pycache__/get_file_info.cpython-36.pyc',\n",
       " './__pycache__/get_file_info.cpython-37.pyc',\n",
       " './__pycache__/get_file_info2.cpython-37.pyc',\n",
       " './__pycache__/get_file_info3.cpython-37.pyc',\n",
       " './~/.cache/matplotlib/fontlist-v300.json']"
      ]
     },
     "execution_count": 124,
     "metadata": {},
     "output_type": "execute_result"
    }
   ],
   "source": [
    "from os import walk\n",
    "\n",
    "def r_walk(mypath):\n",
    "    f = []\n",
    "    for (dirpath, dirnames, filenames) in walk(mypath):\n",
    "        f.extend([os.path.join(dirpath, name) for name in filenames])\n",
    "    return f\n",
    "results = r_walk('.')\n",
    "len(results)\n",
    "results"
   ]
  },
  {
   "cell_type": "code",
   "execution_count": null,
   "metadata": {},
   "outputs": [],
   "source": []
  },
  {
   "cell_type": "code",
   "execution_count": 57,
   "metadata": {},
   "outputs": [],
   "source": [
    "import fnmatch"
   ]
  },
  {
   "cell_type": "code",
   "execution_count": 128,
   "metadata": {},
   "outputs": [
    {
     "data": {
      "text/plain": [
       "54"
      ]
     },
     "execution_count": 128,
     "metadata": {},
     "output_type": "execute_result"
    }
   ],
   "source": [
    "def r_path(path):\n",
    "    return [str(_) for _ in Path(path).rglob('*') if not _.is_dir()]\n",
    "len(r_path('.'))"
   ]
  },
  {
   "cell_type": "code",
   "execution_count": null,
   "metadata": {},
   "outputs": [],
   "source": []
  },
  {
   "cell_type": "code",
   "execution_count": null,
   "metadata": {},
   "outputs": [],
   "source": []
  },
  {
   "cell_type": "code",
   "execution_count": 136,
   "metadata": {},
   "outputs": [
    {
     "name": "stdout",
     "output_type": "stream",
     "text": [
      "5.68 s ± 548 ms per loop (mean ± std. dev. of 7 runs, 1 loop each)\n",
      "5.76 s ± 1.03 s per loop (mean ± std. dev. of 7 runs, 1 loop each)\n",
      "5.02 s ± 359 ms per loop (mean ± std. dev. of 7 runs, 1 loop each)\n",
      "11.2 s ± 808 ms per loop (mean ± std. dev. of 7 runs, 1 loop each)\n"
     ]
    }
   ],
   "source": [
    "path = '/data/OneDrive/Documents/projects/bookmarks/'\n",
    "%timeit len(r_listdir(path))\n",
    "%timeit len(r_scandir(path))\n",
    "%timeit len(r_walk(path))\n",
    "%timeit len(r_path(path))"
   ]
  },
  {
   "cell_type": "code",
   "execution_count": 114,
   "metadata": {},
   "outputs": [
    {
     "data": {
      "text/plain": [
       "28972"
      ]
     },
     "execution_count": 114,
     "metadata": {},
     "output_type": "execute_result"
    },
    {
     "data": {
      "text/plain": [
       "48825"
      ]
     },
     "execution_count": 114,
     "metadata": {},
     "output_type": "execute_result"
    }
   ],
   "source": [
    "path = '../..'\n",
    "rw_set = set(r_walk(path))\n",
    "len(rw_set)\n",
    "rp_set = set(r_path(path))\n",
    "len(rp_set)"
   ]
  },
  {
   "cell_type": "code",
   "execution_count": 125,
   "metadata": {},
   "outputs": [
    {
     "data": {
      "text/plain": [
       "48827"
      ]
     },
     "execution_count": 125,
     "metadata": {},
     "output_type": "execute_result"
    },
    {
     "data": {
      "text/plain": [
       "48827"
      ]
     },
     "execution_count": 125,
     "metadata": {},
     "output_type": "execute_result"
    }
   ],
   "source": [
    "rw = r_walk(path)\n",
    "len(rw)\n",
    "rw_set = set(rw)\n",
    "len(rw_set)"
   ]
  },
  {
   "cell_type": "code",
   "execution_count": 129,
   "metadata": {},
   "outputs": [
    {
     "data": {
      "text/plain": [
       "48827"
      ]
     },
     "execution_count": 129,
     "metadata": {},
     "output_type": "execute_result"
    },
    {
     "data": {
      "text/plain": [
       "48827"
      ]
     },
     "execution_count": 129,
     "metadata": {},
     "output_type": "execute_result"
    }
   ],
   "source": [
    "rp = r_path(path)\n",
    "len(rp)\n",
    "rp_set = set(rp)\n",
    "len(rp_set)"
   ]
  },
  {
   "cell_type": "code",
   "execution_count": 116,
   "metadata": {},
   "outputs": [
    {
     "name": "stdout",
     "output_type": "stream",
     "text": [
      "CPU times: user 1.48 s, sys: 1.97 s, total: 3.45 s\n",
      "Wall time: 12.5 s\n"
     ]
    },
    {
     "data": {
      "text/plain": [
       "48827"
      ]
     },
     "execution_count": 116,
     "metadata": {},
     "output_type": "execute_result"
    },
    {
     "name": "stdout",
     "output_type": "stream",
     "text": [
      "CPU times: user 1.21 s, sys: 2.01 s, total: 3.22 s\n",
      "Wall time: 12.4 s\n"
     ]
    },
    {
     "data": {
      "text/plain": [
       "48827"
      ]
     },
     "execution_count": 116,
     "metadata": {},
     "output_type": "execute_result"
    }
   ],
   "source": [
    "%time len(set(r_listdir(path)))\n",
    "%time len(set(r_scandir(path)))"
   ]
  },
  {
   "cell_type": "code",
   "execution_count": 117,
   "metadata": {},
   "outputs": [
    {
     "data": {
      "text/plain": [
       "48827"
      ]
     },
     "execution_count": 117,
     "metadata": {},
     "output_type": "execute_result"
    },
    {
     "data": {
      "text/plain": [
       "48827"
      ]
     },
     "execution_count": 117,
     "metadata": {},
     "output_type": "execute_result"
    }
   ],
   "source": [
    "rl = r_listdir(path)\n",
    "rl_set = set(rl)\n",
    "len(rl_set)\n",
    "rs = r_scandir(path)\n",
    "rs_set = set(rs)\n",
    "len(rs_set)"
   ]
  },
  {
   "cell_type": "code",
   "execution_count": 127,
   "metadata": {},
   "outputs": [
    {
     "data": {
      "text/plain": [
       "{'../../gym/gym-retro/third-party/capnproto/c++/ekam-provider/c++header',\n",
       " '../../gym/gym-retro/third-party/capnproto/c++/ekam-provider/canonical'}"
      ]
     },
     "execution_count": 127,
     "metadata": {},
     "output_type": "execute_result"
    }
   ],
   "source": [
    "rw_set - rp_set"
   ]
  },
  {
   "cell_type": "code",
   "execution_count": null,
   "metadata": {},
   "outputs": [],
   "source": []
  },
  {
   "cell_type": "code",
   "execution_count": 137,
   "metadata": {},
   "outputs": [
    {
     "data": {
      "text/plain": [
       "15"
      ]
     },
     "execution_count": 137,
     "metadata": {},
     "output_type": "execute_result"
    },
    {
     "data": {
      "text/plain": [
       "['cli.py',\n",
       " 'cli2.py',\n",
       " 'daskerator.py',\n",
       " 'examinator.py',\n",
       " 'examinator2.py',\n",
       " 'Examinator_testing.ipynb',\n",
       " 'get_file_info.ipynb',\n",
       " 'get_file_info.py',\n",
       " 'get_file_info2.py',\n",
       " 'get_file_info3.py',\n",
       " 'script.py',\n",
       " 'test_joblib.py',\n",
       " 'Untitled-1.py',\n",
       " 'untitled.py',\n",
       " '__init__.py']"
      ]
     },
     "execution_count": 137,
     "metadata": {},
     "output_type": "execute_result"
    }
   ],
   "source": [
    "mypath = '.'\n",
    "_, _, filenames = next(walk(mypath), (None, None, []))\n",
    "len(filenames)\n",
    "filenames"
   ]
  },
  {
   "cell_type": "code",
   "execution_count": 139,
   "metadata": {},
   "outputs": [
    {
     "data": {
      "text/plain": [
       "15"
      ]
     },
     "execution_count": 139,
     "metadata": {},
     "output_type": "execute_result"
    },
    {
     "data": {
      "text/plain": [
       "['cli.py',\n",
       " 'cli2.py',\n",
       " 'daskerator.py',\n",
       " 'examinator.py',\n",
       " 'examinator2.py',\n",
       " 'Examinator_testing.ipynb',\n",
       " 'get_file_info.ipynb',\n",
       " 'get_file_info.py',\n",
       " 'get_file_info2.py',\n",
       " 'get_file_info3.py',\n",
       " 'script.py',\n",
       " 'test_joblib.py',\n",
       " 'Untitled-1.py',\n",
       " 'untitled.py',\n",
       " '__init__.py']"
      ]
     },
     "execution_count": 139,
     "metadata": {},
     "output_type": "execute_result"
    }
   ],
   "source": [
    "(_, _, filenames) = next(os.walk(mypath))\n",
    "len(filenames)\n",
    "filenames"
   ]
  },
  {
   "cell_type": "code",
   "execution_count": null,
   "metadata": {},
   "outputs": [],
   "source": []
  }
 ],
 "metadata": {
  "kernelspec": {
   "display_name": "Python 3",
   "language": "python",
   "name": "python3"
  },
  "language_info": {
   "codemirror_mode": {
    "name": "ipython",
    "version": 3
   },
   "file_extension": ".py",
   "mimetype": "text/x-python",
   "name": "python",
   "nbconvert_exporter": "python",
   "pygments_lexer": "ipython3",
   "version": "3.6.7"
  }
 },
 "nbformat": 4,
 "nbformat_minor": 2
}
